{
 "cells": [
  {
   "cell_type": "markdown",
   "metadata": {},
   "source": [
    "# Cookie Cats A/B Test — Should we move the first gate from level 30 → 40?\n",
    "\n",
    "**Goal:** Decide if moving the first gate later (from level 30 to 40) improves long-term engagement.\n",
    "\n",
    "- **Group A** = `gate_30` (control)  \n",
    "- **Group B** = `gate_40` (treatment)  \n",
    "- **Primary metric:** 7-day retention (`retention_7`)  \n",
    "- **Guardrail metric:** 1-day retention (`retention_1`)  \n",
    "- **Test:** two-proportion z-test, 95% CIs  \n"
   ]
  },
  {
   "cell_type": "code",
   "execution_count": 3,
   "metadata": {},
   "outputs": [],
   "source": [
    "import sys, os\n",
    "sys.path.append(os.path.abspath(\"..\"))\n"
   ]
  },
  {
   "cell_type": "code",
   "execution_count": 4,
   "metadata": {},
   "outputs": [],
   "source": [
    "import pandas as pd\n",
    "from src.metrics import sanity_checks, ab_summary, mde_or_sample\n",
    "from src.viz import bar_with_ci\n",
    "\n",
    "pd.set_option(\"display.float_format\", lambda v: f\"{v:.4f}\")\n"
   ]
  },
  {
   "cell_type": "code",
   "execution_count": 5,
   "metadata": {},
   "outputs": [
    {
     "name": "stdout",
     "output_type": "stream",
     "text": [
      "Rows: 90189\n",
      "Group split (proportion):\n",
      "group\n",
      "B   0.5040\n",
      "A   0.4960\n",
      "Name: proportion, dtype: float64\n"
     ]
    },
    {
     "data": {
      "text/html": [
       "<div>\n",
       "<style scoped>\n",
       "    .dataframe tbody tr th:only-of-type {\n",
       "        vertical-align: middle;\n",
       "    }\n",
       "\n",
       "    .dataframe tbody tr th {\n",
       "        vertical-align: top;\n",
       "    }\n",
       "\n",
       "    .dataframe thead th {\n",
       "        text-align: right;\n",
       "    }\n",
       "</style>\n",
       "<table border=\"1\" class=\"dataframe\">\n",
       "  <thead>\n",
       "    <tr style=\"text-align: right;\">\n",
       "      <th></th>\n",
       "      <th>userid</th>\n",
       "      <th>version</th>\n",
       "      <th>sum_gamerounds</th>\n",
       "      <th>retention_1</th>\n",
       "      <th>retention_7</th>\n",
       "      <th>group</th>\n",
       "    </tr>\n",
       "  </thead>\n",
       "  <tbody>\n",
       "    <tr>\n",
       "      <th>0</th>\n",
       "      <td>116</td>\n",
       "      <td>gate_30</td>\n",
       "      <td>3</td>\n",
       "      <td>False</td>\n",
       "      <td>False</td>\n",
       "      <td>A</td>\n",
       "    </tr>\n",
       "    <tr>\n",
       "      <th>1</th>\n",
       "      <td>337</td>\n",
       "      <td>gate_30</td>\n",
       "      <td>38</td>\n",
       "      <td>True</td>\n",
       "      <td>False</td>\n",
       "      <td>A</td>\n",
       "    </tr>\n",
       "    <tr>\n",
       "      <th>2</th>\n",
       "      <td>377</td>\n",
       "      <td>gate_40</td>\n",
       "      <td>165</td>\n",
       "      <td>True</td>\n",
       "      <td>False</td>\n",
       "      <td>B</td>\n",
       "    </tr>\n",
       "    <tr>\n",
       "      <th>3</th>\n",
       "      <td>483</td>\n",
       "      <td>gate_40</td>\n",
       "      <td>1</td>\n",
       "      <td>False</td>\n",
       "      <td>False</td>\n",
       "      <td>B</td>\n",
       "    </tr>\n",
       "    <tr>\n",
       "      <th>4</th>\n",
       "      <td>488</td>\n",
       "      <td>gate_40</td>\n",
       "      <td>179</td>\n",
       "      <td>True</td>\n",
       "      <td>True</td>\n",
       "      <td>B</td>\n",
       "    </tr>\n",
       "  </tbody>\n",
       "</table>\n",
       "</div>"
      ],
      "text/plain": [
       "   userid  version  sum_gamerounds  retention_1  retention_7 group\n",
       "0     116  gate_30               3        False        False     A\n",
       "1     337  gate_30              38         True        False     A\n",
       "2     377  gate_40             165         True        False     B\n",
       "3     483  gate_40               1        False        False     B\n",
       "4     488  gate_40             179         True         True     B"
      ]
     },
     "execution_count": 5,
     "metadata": {},
     "output_type": "execute_result"
    }
   ],
   "source": [
    "DATA_PATH = \"../data/cookie_cats.csv\"  # notebook is inside notebooks/, so .. goes to project root\n",
    "\n",
    "assert os.path.exists(DATA_PATH), \"cookie_cats.csv not found in /data\"\n",
    "\n",
    "df_raw = pd.read_csv(DATA_PATH)\n",
    "df, split = sanity_checks(df_raw)  # lowercases, maps gate_30→A, gate_40→B\n",
    "\n",
    "print(\"Rows:\", len(df))\n",
    "print(\"Group split (proportion):\")\n",
    "print(split.round(3))\n",
    "\n",
    "df.head()\n"
   ]
  },
  {
   "cell_type": "code",
   "execution_count": 6,
   "metadata": {},
   "outputs": [
    {
     "name": "stdout",
     "output_type": "stream",
     "text": [
      "Day-1 retention: {'A_success': 20034, 'A_total': 44700, 'A_rate': 0.4481879194630872, 'A_CI': (0.44358236514774474, 0.45280237833639625), 'B_success': 20119, 'B_total': 45489, 'B_rate': 0.44228274967574577, 'B_CI': (0.43772374727049607, 0.44685149948007), 'abs_lift_pp': -0.5905169787341458, 'rel_lift_%': -1.317565585974659, 'z': -1.7840862247974725, 'p': 0.07440965529691913}\n",
      "Day-7 retention: {'A_success': 8502, 'A_total': 44700, 'A_rate': 0.19020134228187918, 'A_CI': (0.18658979684366292, 0.19386613051747012), 'B_success': 8279, 'B_total': 45489, 'B_rate': 0.18200004396667327, 'B_CI': (0.17848120097823003, 0.18557259139286594), 'abs_lift_pp': -0.8201298315205913, 'rel_lift_%': -4.311903489646016, 'z': -3.164358912748191, 'p': 0.0015542499756143289}\n"
     ]
    }
   ],
   "source": [
    "res_d1 = ab_summary(df, \"retention_1\")\n",
    "res_d7 = ab_summary(df, \"retention_7\")\n",
    "\n",
    "print(\"Day-1 retention:\", res_d1)\n",
    "print(\"Day-7 retention:\", res_d7)  # primary metric\n"
   ]
  },
  {
   "cell_type": "code",
   "execution_count": 7,
   "metadata": {},
   "outputs": [
    {
     "data": {
      "text/html": [
       "<div>\n",
       "<style scoped>\n",
       "    .dataframe tbody tr th:only-of-type {\n",
       "        vertical-align: middle;\n",
       "    }\n",
       "\n",
       "    .dataframe tbody tr th {\n",
       "        vertical-align: top;\n",
       "    }\n",
       "\n",
       "    .dataframe thead th {\n",
       "        text-align: right;\n",
       "    }\n",
       "</style>\n",
       "<table border=\"1\" class=\"dataframe\">\n",
       "  <thead>\n",
       "    <tr style=\"text-align: right;\">\n",
       "      <th></th>\n",
       "      <th>Metric</th>\n",
       "      <th>A rate</th>\n",
       "      <th>B rate</th>\n",
       "      <th>Abs lift (pp)</th>\n",
       "      <th>Rel lift (%)</th>\n",
       "      <th>p-value</th>\n",
       "      <th>A 95% CI</th>\n",
       "      <th>B 95% CI</th>\n",
       "    </tr>\n",
       "  </thead>\n",
       "  <tbody>\n",
       "    <tr>\n",
       "      <th>0</th>\n",
       "      <td>Day-1 retention (guardrail)</td>\n",
       "      <td>44.82%</td>\n",
       "      <td>44.23%</td>\n",
       "      <td>-0.59</td>\n",
       "      <td>-1.32</td>\n",
       "      <td>0.0744</td>\n",
       "      <td>[44.36, 45.28]</td>\n",
       "      <td>[43.77, 44.69]</td>\n",
       "    </tr>\n",
       "    <tr>\n",
       "      <th>1</th>\n",
       "      <td>Day-7 retention (primary)</td>\n",
       "      <td>19.02%</td>\n",
       "      <td>18.20%</td>\n",
       "      <td>-0.82</td>\n",
       "      <td>-4.31</td>\n",
       "      <td>0.0016</td>\n",
       "      <td>[18.66, 19.39]</td>\n",
       "      <td>[17.85, 18.56]</td>\n",
       "    </tr>\n",
       "  </tbody>\n",
       "</table>\n",
       "</div>"
      ],
      "text/plain": [
       "                        Metric  A rate  B rate Abs lift (pp) Rel lift (%)  \\\n",
       "0  Day-1 retention (guardrail)  44.82%  44.23%         -0.59        -1.32   \n",
       "1    Day-7 retention (primary)  19.02%  18.20%         -0.82        -4.31   \n",
       "\n",
       "  p-value        A 95% CI        B 95% CI  \n",
       "0  0.0744  [44.36, 45.28]  [43.77, 44.69]  \n",
       "1  0.0016  [18.66, 19.39]  [17.85, 18.56]  "
      ]
     },
     "execution_count": 7,
     "metadata": {},
     "output_type": "execute_result"
    }
   ],
   "source": [
    "def summarize_row(name, res):\n",
    "    return {\n",
    "        \"Metric\": name,\n",
    "        \"A rate\": f\"{res['A_rate']*100:.2f}%\",\n",
    "        \"B rate\": f\"{res['B_rate']*100:.2f}%\",\n",
    "        \"Abs lift (pp)\": f\"{res['abs_lift_pp']:.2f}\",\n",
    "        \"Rel lift (%)\": f\"{res['rel_lift_%']:.2f}\",\n",
    "        \"p-value\": f\"{res['p']:.4f}\",\n",
    "        \"A 95% CI\": f\"[{res['A_CI'][0]*100:.2f}, {res['A_CI'][1]*100:.2f}]\",\n",
    "        \"B 95% CI\": f\"[{res['B_CI'][0]*100:.2f}, {res['B_CI'][1]*100:.2f}]\"\n",
    "    }\n",
    "\n",
    "summary_df = pd.DataFrame([\n",
    "    summarize_row(\"Day-1 retention (guardrail)\", res_d1),\n",
    "    summarize_row(\"Day-7 retention (primary)\", res_d7),\n",
    "])\n",
    "summary_df\n"
   ]
  },
  {
   "cell_type": "code",
   "execution_count": 8,
   "metadata": {},
   "outputs": [
    {
     "data": {
      "text/plain": [
       "'Saved to results/figures/'"
      ]
     },
     "execution_count": 8,
     "metadata": {},
     "output_type": "execute_result"
    }
   ],
   "source": [
    "os.makedirs(\"../results/figures\", exist_ok=True)\n",
    "\n",
    "bar_with_ci(\n",
    "    groups=[\"A\",\"B\"],\n",
    "    rates=[res_d1[\"A_rate\"], res_d1[\"B_rate\"]],\n",
    "    cis=[res_d1[\"A_CI\"], res_d1[\"B_CI\"]],\n",
    "    title=\"Day-1 Retention by Group\",\n",
    "    ylabel=\"Retention rate\",\n",
    "    outpath=\"../results/figures/day1_retention.png\"\n",
    ")\n",
    "\n",
    "bar_with_ci(\n",
    "    groups=[\"A\",\"B\"],\n",
    "    rates=[res_d7[\"A_rate\"], res_d7[\"B_rate\"]],\n",
    "    cis=[res_d7[\"A_CI\"], res_d7[\"B_CI\"]],\n",
    "    title=\"Day-7 Retention by Group (Primary)\",\n",
    "    ylabel=\"Retention rate\",\n",
    "    outpath=\"../results/figures/day7_retention.png\"\n",
    ")\n",
    "\n",
    "\"Saved to results/figures/\"\n"
   ]
  },
  {
   "cell_type": "code",
   "execution_count": 9,
   "metadata": {},
   "outputs": [
    {
     "data": {
      "text/plain": [
       "{'n_per_group': 45094, 'mde_abs': 0.0073224222652388034}"
      ]
     },
     "execution_count": 9,
     "metadata": {},
     "output_type": "execute_result"
    }
   ],
   "source": [
    "# With current sample size and baseline, what absolute MDE could we detect (approx)?\n",
    "p0 = res_d7[\"A_rate\"]\n",
    "n_per_group = int(df.groupby(\"group\").size().mean())\n",
    "mde_est = mde_or_sample(p_baseline=p0, n=n_per_group)  # returns ~minimum detectable effect\n",
    "mde_est\n"
   ]
  },
  {
   "cell_type": "markdown",
   "metadata": {},
   "source": [
    "## Recommendation\n",
    "\n",
    "- **Primary (Day-7 retention):** B vs A = **-0.82 pp** (relative -4.31%, p = 0.0016).  \n",
    "  - Group A (gate_30): 19.02% [18.66, 19.39]  \n",
    "  - Group B (gate_40): 18.20% [17.85, 18.56]  \n",
    "  - Interpretation: Statistically significant drop in 7-day retention when moving the gate later.\n",
    "\n",
    "- **Guardrail (Day-1 retention):** B vs A = **-0.59 pp** (relative -1.32%, p = 0.0744).  \n",
    "  - Group A: 44.82% [44.36, 45.28]  \n",
    "  - Group B: 44.23% [43.77, 44.69]  \n",
    "  - Interpretation: Slight, non-significant decline in 1-day retention.\n",
    "\n",
    "**Decision:** ❌ **Do not ship moving the gate to level 40.**  \n",
    "\n",
    "**Reasoning:** Although Day-1 retention (onboarding) isn’t meaningfully harmed, the primary metric (Day-7 retention) shows a statistically significant decrease. Shipping this change risks reducing long-term engagement, which outweighs any potential short-term benefit.\n"
   ]
  },
  {
   "cell_type": "code",
   "execution_count": null,
   "metadata": {},
   "outputs": [],
   "source": []
  }
 ],
 "metadata": {
  "kernelspec": {
   "display_name": "Python (cookiecats-ab-test)",
   "language": "python",
   "name": "cookiecats-ab-test"
  },
  "language_info": {
   "codemirror_mode": {
    "name": "ipython",
    "version": 3
   },
   "file_extension": ".py",
   "mimetype": "text/x-python",
   "name": "python",
   "nbconvert_exporter": "python",
   "pygments_lexer": "ipython3",
   "version": "3.9.6"
  },
  "orig_nbformat": 4
 },
 "nbformat": 4,
 "nbformat_minor": 2
}
